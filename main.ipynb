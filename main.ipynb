{
 "cells": [
  {
   "cell_type": "code",
   "id": "initial_id",
   "metadata": {
    "collapsed": true,
    "ExecuteTime": {
     "end_time": "2024-07-19T03:36:30.694252Z",
     "start_time": "2024-07-19T03:36:30.492403Z"
    }
   },
   "source": [
    "import cv2\n",
    "\n",
    "face_cascade = cv2.CascadeClassifier('haarcascade_frontalface_alt2.xml')\n",
    "\n",
    "\n",
    "def detect_faces(image_path):\n",
    "    image = cv2.imread(image_path)\n",
    "    gray = cv2.cvtColor(image, cv2.COLOR_BGR2GRAY)\n",
    "    faces = face_cascade.detectMultiScale(gray, scaleFactor=1.1, minNeighbors=5)\n",
    "    (x, y, w, h) = faces[0]\n",
    "    faces = image[x:x + w, y:y + h]\n",
    "    return faces"
   ],
   "outputs": [],
   "execution_count": 30
  },
  {
   "metadata": {
    "ExecuteTime": {
     "end_time": "2024-07-19T03:36:41.610252Z",
     "start_time": "2024-07-19T03:36:30.695745Z"
    }
   },
   "cell_type": "code",
   "source": [
    "import tensorflow as tf\n",
    "from keras.models import load_model\n",
    "import numpy as np\n",
    "\n",
    "model = load_model('facenet_keras.h5')\n",
    "\n",
    "def get_face_embedding(faces_image):\n",
    "    faces_image=cv2.resize(faces_image,(160,160))\n",
    "    faces_image=faces_image.astype('float32')/255.0\n",
    "    faces_image=np.expand_dims(faces_image,axis=0)\n",
    "    embedding=model.predict(faces_image)\n",
    "    return embedding"
   ],
   "id": "eb5574c163d0872",
   "outputs": [],
   "execution_count": 31
  },
  {
   "metadata": {
    "ExecuteTime": {
     "end_time": "2024-07-19T03:36:41.625789Z",
     "start_time": "2024-07-19T03:36:41.611763Z"
    }
   },
   "cell_type": "code",
   "source": [
    "def euclidean_distance(embedding1,embedding2):\n",
    "    return np.linalg.norm(embedding1-embedding2)"
   ],
   "id": "cf3507d826bed602",
   "outputs": [],
   "execution_count": 32
  },
  {
   "metadata": {
    "ExecuteTime": {
     "end_time": "2024-07-19T03:36:41.641974Z",
     "start_time": "2024-07-19T03:36:41.627788Z"
    }
   },
   "cell_type": "code",
   "source": [
    "def is_match(embedding1,embedding2,threshold):\n",
    "    distance=euclidean_distance(embedding1,embedding2)\n",
    "    print(distance)\n",
    "    if distance<threshold:\n",
    "        return True\n",
    "    else:\n",
    "        return False"
   ],
   "id": "3d0b304b4ec5849a",
   "outputs": [],
   "execution_count": 33
  },
  {
   "metadata": {
    "ExecuteTime": {
     "end_time": "2024-07-19T03:36:44.621357Z",
     "start_time": "2024-07-19T03:36:41.643983Z"
    }
   },
   "cell_type": "code",
   "source": [
    "faces1 = detect_faces(\"01.jpg\")\n",
    "embedding1 = get_face_embedding(faces1)\n",
    "faces2 = detect_faces(\"02.jpg\")\n",
    "embedding2 = get_face_embedding(faces2)\n",
    "res = is_match(embedding1,embedding2,1.1)\n",
    "print(res)"
   ],
   "id": "524a52b3931e22a4",
   "outputs": [
    {
     "name": "stdout",
     "output_type": "stream",
     "text": [
      "1.3884591\n",
      "False\n"
     ]
    }
   ],
   "execution_count": 34
  },
  {
   "metadata": {
    "ExecuteTime": {
     "end_time": "2024-07-19T03:36:44.636600Z",
     "start_time": "2024-07-19T03:36:44.622276Z"
    }
   },
   "cell_type": "code",
   "source": "",
   "id": "b45e93fcc1ba303f",
   "outputs": [],
   "execution_count": 34
  }
 ],
 "metadata": {
  "kernelspec": {
   "display_name": "Python 3",
   "language": "python",
   "name": "python3"
  },
  "language_info": {
   "codemirror_mode": {
    "name": "ipython",
    "version": 2
   },
   "file_extension": ".py",
   "mimetype": "text/x-python",
   "name": "python",
   "nbconvert_exporter": "python",
   "pygments_lexer": "ipython2",
   "version": "2.7.6"
  }
 },
 "nbformat": 4,
 "nbformat_minor": 5
}
